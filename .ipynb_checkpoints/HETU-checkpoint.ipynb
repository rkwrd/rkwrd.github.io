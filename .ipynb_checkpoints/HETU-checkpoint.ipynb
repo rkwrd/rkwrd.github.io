{
 "metadata": {
  "name": ""
 },
 "nbformat": 3,
 "nbformat_minor": 0,
 "worksheets": [
  {
   "cells": [
    {
     "cell_type": "code",
     "collapsed": false,
     "input": [
      "def create_hetus(ddmmyyyy, gender):\n",
      "    # generator function to yield valid HETU numbers\n",
      "    # ppkkvvyzzzq\n",
      "    # pp  - day\n",
      "    # kk  - month\n",
      "    # vv  - year\n",
      "    # y   - century (+ for 1800, - for 1900, A for 2000)\n",
      "    # zzz - individual number (even for females, odd for males, values of 002-899)\n",
      "    # q   - checkdigit, calculated as t = (ppkkvvzzz mod 31) as q = t~[0-9, A-Y]\n",
      "    \n",
      "    checksum = [\"0\", \"1\", \"2\", \"3\", \"4\", \"5\", \"6\", \"7\", \"8\", \"9\", \\\n",
      "                \"A\", \"B\", \"C\", \"D\", \"E\", \"F\", \"H\", \"J\", \"K\", \"L\", \"M\", \"N\", \"P\", \"R\", \"S\", \"T\", \"U\", \"V\", \"W\", \"X\", \"Y\"]\n",
      "    hetus = []\n",
      "    index = 0\n",
      "    if gender == \"m\":\n",
      "        index += 1   \n",
      "    y = 0\n",
      "    ddmmyy = str(ddmmyyyy)[0:4] + str(ddmmyyyy)[6:]\n",
      "    \n",
      "    if int(ddmmyyyy[4:6]) == 18:\n",
      "        y = \"+\"\n",
      "    elif int(ddmmyyyy[4:6]) == 19:\n",
      "        y = \"-\"\n",
      "    elif int(ddmmyyyy[4:6]) >= 20:\n",
      "        y = \"A\"\n",
      "\n",
      "    while index < 900:\n",
      "        index += 2\n",
      "        zzz = str(\"%03d\" % index)\n",
      "        tmp = int(str(ddmmyy) + str(zzz))\n",
      "        q = checksum[tmp % 31]\n",
      "        het = str(ddmmyy) + str(y) + str(zzz) + str(q)\n",
      "        hetus.append(het)\n",
      "        \n",
      "    return hetus\n",
      "    "
     ],
     "language": "python",
     "metadata": {},
     "outputs": [],
     "prompt_number": 61
    },
    {
     "cell_type": "code",
     "collapsed": false,
     "input": [
      "create_hetus(\"30061988\", \"male\")"
     ],
     "language": "python",
     "metadata": {},
     "outputs": [
      {
       "metadata": {},
       "output_type": "pyout",
       "prompt_number": 62,
       "text": [
        "['300688-002Y',\n",
        " '300688-0041',\n",
        " '300688-0063',\n",
        " '300688-0085',\n",
        " '300688-0107',\n",
        " '300688-0129',\n",
        " '300688-014B',\n",
        " '300688-016D',\n",
        " '300688-018F',\n",
        " '300688-020J',\n",
        " '300688-022L',\n",
        " '300688-024N',\n",
        " '300688-026R',\n",
        " '300688-028T',\n",
        " '300688-030V']"
       ]
      }
     ],
     "prompt_number": 62
    },
    {
     "cell_type": "code",
     "collapsed": false,
     "input": [
      "def zzz_estimator():\n",
      "    # bY = total births for that year\n",
      "    # bD = bY / 365\n",
      "    \n",
      "    "
     ],
     "language": "python",
     "metadata": {},
     "outputs": [],
     "prompt_number": 41
    },
    {
     "cell_type": "code",
     "collapsed": false,
     "input": [],
     "language": "python",
     "metadata": {},
     "outputs": []
    }
   ],
   "metadata": {}
  }
 ]
}